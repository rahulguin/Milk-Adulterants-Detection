{
 "cells": [
  {
   "cell_type": "code",
   "execution_count": 2,
   "metadata": {
    "collapsed": false
   },
   "outputs": [
    {
     "name": "stdout",
     "output_type": "stream",
     "text": [
      "   Adulterant_Type      1819      1806      1792      1779      1766  \\\n",
      "0               -1  99.18389  99.63905  99.16046  98.84535  98.93038   \n",
      "1               -1  99.33261  98.80840  98.69943  99.02390  98.71841   \n",
      "2               -1  99.10547  98.82649  98.91290  99.03580  98.99537   \n",
      "3               -1  99.10787  98.99817  98.83083  99.11613  98.95229   \n",
      "4               -1  98.99371  98.80965  98.90786  99.12389  99.09737   \n",
      "\n",
      "       1753      1741      1728      1716    ...          964       960  \\\n",
      "0  98.58627  98.20972  98.10948  97.76357    ...     94.60139  94.80447   \n",
      "1  98.66637  98.43863  98.56966  98.16318    ...     94.45252  94.39323   \n",
      "2  98.91911  98.85892  98.68549  98.28992    ...     94.87752  93.97311   \n",
      "3  99.03153  99.09865  98.77976  98.26906    ...     94.74136  94.29523   \n",
      "4  99.38934  99.24475  99.12132  98.72931    ...     94.21420  94.05006   \n",
      "\n",
      "        956       953       949       945       941       938       934  \\\n",
      "0  94.79208  94.70405  95.47358  95.32974  95.68173  95.56106  95.22491   \n",
      "1  95.01111  94.72886  95.81667  95.33150  95.14656  95.67233  96.69450   \n",
      "2  94.78423  94.36344  95.05466  94.96565  95.18752  94.95274  96.13908   \n",
      "3  94.76690  94.73723  95.36240  95.35760  94.97964  95.77308  96.46364   \n",
      "4  94.57084  94.72698  94.89108  95.80746  95.27411  95.29057  96.28780   \n",
      "\n",
      "        931  \n",
      "0  95.93672  \n",
      "1  95.54578  \n",
      "2  95.01680  \n",
      "3  95.45044  \n",
      "4  95.50010  \n",
      "\n",
      "[5 rows x 129 columns]\n"
     ]
    }
   ],
   "source": [
    "import pandas as pd\n",
    "data= pd.read_csv('C:\\\\Users\\\\Dell PC\\\\Desktop\\\\mir1.csv')\n",
    "print (data.head())"
   ]
  },
  {
   "cell_type": "code",
   "execution_count": 14,
   "metadata": {
    "collapsed": false
   },
   "outputs": [
    {
     "name": "stdout",
     "output_type": "stream",
     "text": [
      "(5287, 129)\n"
     ]
    }
   ],
   "source": [
    "print (data.shape)"
   ]
  },
  {
   "cell_type": "code",
   "execution_count": 13,
   "metadata": {
    "collapsed": false
   },
   "outputs": [
    {
     "data": {
      "text/plain": [
       "<seaborn.axisgrid.PairGrid at 0x28cc6099400>"
      ]
     },
     "execution_count": 13,
     "metadata": {},
     "output_type": "execute_result"
    },
    {
     "data": {
      "image/png": "[encoded data removed]",
      "text/plain": [
       "<matplotlib.figure.Figure at 0x28cbf99c6d8>"
      ]
     },
     "metadata": {},
     "output_type": "display_data"
    }
   ],
   "source": [
    "# conventional way to import seaborn\n",
    "import seaborn as sns\n",
    "\n",
    "# allow plots to appear within the notebook\n",
    "%matplotlib inline\n",
    "sns.pairplot(data, x_vars=['1819','1806'], y_vars='Adulterant_Type', size=7, aspect=0.7, kind='reg')"
   ]
  },
  {
   "cell_type": "code",
   "execution_count": 3,
   "metadata": {
    "collapsed": false
   },
   "outputs": [
    {
     "name": "stdout",
     "output_type": "stream",
     "text": [
      "['1819', '1806', '1792', '1779', '1766', '1753', '1741', '1728', '1716', '1704', '1692', '1680', '1669', '1657', '1646', '1635', '1624', '1613', '1602', '1592', '1581', '1571', '1561', '1551', '1541', '1531', '1522', '1512', '1503', '1494', '1484', '1475', '1466', '1458', '1449', '1440', '1432', '1423', '1415', '1407', '1399', '1391', '1383', '1375', '1367', '1359', '1352', '1344', '1337', '1329', '1322', '1315', '1308', '1301', '1294', '1287', '1280', '1273', '1267', '1260', '1254', '1247', '1241', '1234', '1228', '1222', '1216', '1210', '1204', '1198', '1192', '1186', '1180', '1175', '1169', '1163', '1158', '1152', '1147', '1141', '1136', '1131', '1125', '1120', '1115', '1110', '1105', '1100', '1095', '1090', '1085', '1080', '1075', '1071', '1066', '1061', '1057', '1052', '1047', '1043', '1038', '1034', '1030', '1025', '1021', '1017', '1012', '1008', '1004', '1000', '996', '992', '988', '984', '980', '976', '972', '968', '964', '960', '956', '953', '949', '945', '941', '938', '934', '931']\n"
     ]
    }
   ],
   "source": [
    "feature=['1819','1806','1792','1779','1766','1753','1741','1728','1716','1704','1692','1680','1669','1657','1646',\n",
    "         '1635','1624','1613','1602','1592','1581','1571','1561','1551','1541','1531','1522','1512','1503',\n",
    "         '1494','1484','1475','1466','1458','1449','1440','1432','1423','1415','1407','1399','1391',\n",
    "         '1383','1375','1367','1359','1352','1344','1337','1329','1322','1315','1308','1301','1294',\n",
    "         '1287','1280','1273','1267','1260','1254','1247','1241','1234','1228','1222','1216','1210',\n",
    "         '1204','1198','1192','1186','1180','1175','1169','1163','1158','1152','1147','1141','1136',\n",
    "         '1131','1125','1120','1115','1110','1105','1100','1095','1090','1085','1080','1075','1071',\n",
    "         '1066','1061','1057','1052','1047','1043','1038','1034','1030','1025','1021','1017','1012',\n",
    "         '1008','1004','1000','996','992','988','984','980','976','972','968','964','960',\n",
    "         '956','953','949','945','941','938','934','931']\n",
    "print (feature)"
   ]
  },
  {
   "cell_type": "code",
   "execution_count": 4,
   "metadata": {
    "collapsed": false
   },
   "outputs": [
    {
     "name": "stdout",
     "output_type": "stream",
     "text": [
      "       1819      1806      1792      1779      1766      1753      1741  \\\n",
      "0  99.18389  99.63905  99.16046  98.84535  98.93038  98.58627  98.20972   \n",
      "1  99.33261  98.80840  98.69943  99.02390  98.71841  98.66637  98.43863   \n",
      "2  99.10547  98.82649  98.91290  99.03580  98.99537  98.91911  98.85892   \n",
      "3  99.10787  98.99817  98.83083  99.11613  98.95229  99.03153  99.09865   \n",
      "4  98.99371  98.80965  98.90786  99.12389  99.09737  99.38934  99.24475   \n",
      "\n",
      "       1728      1716      1704    ...          964       960       956  \\\n",
      "0  98.10948  97.76357  97.91219    ...     94.60139  94.80447  94.79208   \n",
      "1  98.56966  98.16318  97.63266    ...     94.45252  94.39323  95.01111   \n",
      "2  98.68549  98.28992  97.33273    ...     94.87752  93.97311  94.78423   \n",
      "3  98.77976  98.26906  97.81380    ...     94.74136  94.29523  94.76690   \n",
      "4  99.12132  98.72931  97.74020    ...     94.21420  94.05006  94.57084   \n",
      "\n",
      "        953       949       945       941       938       934       931  \n",
      "0  94.70405  95.47358  95.32974  95.68173  95.56106  95.22491  95.93672  \n",
      "1  94.72886  95.81667  95.33150  95.14656  95.67233  96.69450  95.54578  \n",
      "2  94.36344  95.05466  94.96565  95.18752  94.95274  96.13908  95.01680  \n",
      "3  94.73723  95.36240  95.35760  94.97964  95.77308  96.46364  95.45044  \n",
      "4  94.72698  94.89108  95.80746  95.27411  95.29057  96.28780  95.50010  \n",
      "\n",
      "[5 rows x 128 columns]\n"
     ]
    }
   ],
   "source": [
    "X=data[feature]\n",
    "print (X.head())"
   ]
  },
  {
   "cell_type": "code",
   "execution_count": 5,
   "metadata": {
    "collapsed": false
   },
   "outputs": [
    {
     "name": "stdout",
     "output_type": "stream",
     "text": [
      "0   -1\n",
      "1   -1\n",
      "2   -1\n",
      "3   -1\n",
      "4   -1\n",
      "Name: Adulterant_Type, dtype: int64\n"
     ]
    }
   ],
   "source": [
    "y=data['Adulterant_Type']\n",
    "print (y.head())"
   ]
  },
  {
   "cell_type": "code",
   "execution_count": 6,
   "metadata": {
    "collapsed": false
   },
   "outputs": [
    {
     "data": {
      "text/plain": [
       "RandomForestClassifier(bootstrap=True, class_weight=None, criterion='gini',\n",
       "            max_depth=None, max_features='auto', max_leaf_nodes=None,\n",
       "            min_samples_leaf=1, min_samples_split=2,\n",
       "            min_weight_fraction_leaf=0.0, n_estimators=10, n_jobs=1,\n",
       "            oob_score=False, random_state=None, verbose=0,\n",
       "            warm_start=False)"
      ]
     },
     "execution_count": 6,
     "metadata": {},
     "output_type": "execute_result"
    }
   ],
   "source": [
    "from sklearn.ensemble import RandomForestClassifier\n",
    "rfc=RandomForestClassifier()\n",
    "rfc.fit(X,y)"
   ]
  },
  {
   "cell_type": "code",
   "execution_count": 10,
   "metadata": {
    "collapsed": false
   },
   "outputs": [
    {
     "name": "stdout",
     "output_type": "stream",
     "text": [
      "   Adulterant_Type      1819      1806      1792      1779      1766  \\\n",
      "0                1  99.26985  99.25216  99.01493  98.73410  98.67073   \n",
      "1                1  98.86452  99.00246  98.90533  98.74968  98.81578   \n",
      "2                1  98.84467  99.17372  98.87897  98.49618  98.78309   \n",
      "3                1  98.67705  99.03291  98.84084  98.98774  98.55994   \n",
      "4                1  98.68327  98.94456  98.90227  98.71016  98.72349   \n",
      "\n",
      "       1753      1741      1728      1716    ...          964       960  \\\n",
      "0  98.67310  98.94852  98.17936  97.83112    ...     94.02180  94.24750   \n",
      "1  98.56122  98.43217  98.21809  97.62328    ...     93.62403  94.08735   \n",
      "2  98.39170  98.45432  98.03403  97.87008    ...     93.52233  94.17899   \n",
      "3  98.58904  98.52502  98.40392  98.21682    ...     94.35329  93.88428   \n",
      "4  98.56758  98.47134  98.43100  98.13506    ...     93.93317  94.34175   \n",
      "\n",
      "        956       953       949       945       941       938       934  \\\n",
      "0  94.07235  94.99236  95.42192  95.08902  95.24641  94.15255  96.28669   \n",
      "1  94.78722  95.05654  96.07674  96.13187  95.51681  95.27636  96.27344   \n",
      "2  94.63538  94.65190  95.46886  95.21321  94.85641  94.30682  95.57580   \n",
      "3  94.74375  95.01009  94.83390  95.15231  94.88576  94.86823  95.03166   \n",
      "4  94.21288  94.74605  94.77930  95.45948  94.97680  94.73200  95.45374   \n",
      "\n",
      "        931  \n",
      "0  95.55573  \n",
      "1  96.34775  \n",
      "2  96.24534  \n",
      "3  95.31456  \n",
      "4  94.84412  \n",
      "\n",
      "[5 rows x 129 columns]\n"
     ]
    }
   ],
   "source": [
    "test= pd.read_csv('C:\\\\Users\\\\Dell PC\\\\Desktop\\\\test1.csv')\n",
    "print (test.head())"
   ]
  },
  {
   "cell_type": "code",
   "execution_count": 13,
   "metadata": {
    "collapsed": false
   },
   "outputs": [
    {
     "name": "stdout",
     "output_type": "stream",
     "text": [
      "       1819      1806      1792      1779      1766      1753      1741  \\\n",
      "0  99.26985  99.25216  99.01493  98.73410  98.67073  98.67310  98.94852   \n",
      "1  98.86452  99.00246  98.90533  98.74968  98.81578  98.56122  98.43217   \n",
      "2  98.84467  99.17372  98.87897  98.49618  98.78309  98.39170  98.45432   \n",
      "3  98.67705  99.03291  98.84084  98.98774  98.55994  98.58904  98.52502   \n",
      "4  98.68327  98.94456  98.90227  98.71016  98.72349  98.56758  98.47134   \n",
      "\n",
      "       1728      1716      1704    ...          964       960       956  \\\n",
      "0  98.17936  97.83112  97.78976    ...     94.02180  94.24750  94.07235   \n",
      "1  98.21809  97.62328  97.90228    ...     93.62403  94.08735  94.78722   \n",
      "2  98.03403  97.87008  97.85279    ...     93.52233  94.17899  94.63538   \n",
      "3  98.40392  98.21682  97.27050    ...     94.35329  93.88428  94.74375   \n",
      "4  98.43100  98.13506  97.29359    ...     93.93317  94.34175  94.21288   \n",
      "\n",
      "        953       949       945       941       938       934       931  \n",
      "0  94.99236  95.42192  95.08902  95.24641  94.15255  96.28669  95.55573  \n",
      "1  95.05654  96.07674  96.13187  95.51681  95.27636  96.27344  96.34775  \n",
      "2  94.65190  95.46886  95.21321  94.85641  94.30682  95.57580  96.24534  \n",
      "3  95.01009  94.83390  95.15231  94.88576  94.86823  95.03166  95.31456  \n",
      "4  94.74605  94.77930  95.45948  94.97680  94.73200  95.45374  94.84412  \n",
      "\n",
      "[5 rows x 128 columns]\n"
     ]
    }
   ],
   "source": [
    "x_test=test[feature]\n",
    "print (x_test.head())"
   ]
  },
  {
   "cell_type": "code",
   "execution_count": 11,
   "metadata": {
    "collapsed": false
   },
   "outputs": [
    {
     "name": "stdout",
     "output_type": "stream",
     "text": [
      "0    1\n",
      "1    1\n",
      "2    1\n",
      "3    1\n",
      "4    1\n",
      "Name: Adulterant_Type, dtype: int64\n"
     ]
    }
   ],
   "source": [
    "y_test=test['Adulterant_Type']\n",
    "print (y_test.head())"
   ]
  },
  {
   "cell_type": "code",
   "execution_count": 14,
   "metadata": {
    "collapsed": false
   },
   "outputs": [
    {
     "name": "stdout",
     "output_type": "stream",
     "text": [
      "0.742049469965\n"
     ]
    }
   ],
   "source": [
    "from sklearn import metrics\n",
    "a=rfc.predict(x_test)\n",
    "print (metrics.accuracy_score(y_test,a))"
   ]
  },
  {
   "cell_type": "code",
   "execution_count": 31,
   "metadata": {
    "collapsed": false
   },
   "outputs": [
    {
     "name": "stdout",
     "output_type": "stream",
     "text": [
      "0.743227326266\n"
     ]
    }
   ],
   "source": [
    "from sklearn.linear_model import LogisticRegression\n",
    "l=LogisticRegression(n_jobs=1)\n",
    "l.fit(X,y)\n",
    "b=l.predict(x_test)\n",
    "print (metrics.accuracy_score(y_test,b))"
   ]
  },
  {
   "cell_type": "code",
   "execution_count": 19,
   "metadata": {
    "collapsed": false
   },
   "outputs": [
    {
     "name": "stdout",
     "output_type": "stream",
     "text": [
      "0.658421672556\n"
     ]
    }
   ],
   "source": [
    "from sklearn.naive_bayes import GaussianNB\n",
    "clf=GaussianNB()\n",
    "clf.fit(X,y)\n",
    "c=clf.predict(x_test)\n",
    "print (metrics.accuracy_score(y_test,c))"
   ]
  },
  {
   "cell_type": "code",
   "execution_count": 26,
   "metadata": {
    "collapsed": false
   },
   "outputs": [
    {
     "name": "stdout",
     "output_type": "stream",
     "text": [
      "0.740871613663\n"
     ]
    }
   ],
   "source": [
    "from sklearn.neighbors import KNeighborsClassifier\n",
    "knn=KNeighborsClassifier(n_neighbors=2)\n",
    "knn.fit(X, y)\n",
    "d=knn.predict(x_test)\n",
    "print (metrics.accuracy_score(y_test,d))"
   ]
  },
  {
   "cell_type": "code",
   "execution_count": 39,
   "metadata": {
    "collapsed": false
   },
   "outputs": [
    {
     "name": "stdout",
     "output_type": "stream",
     "text": [
      "[ 0.86611195  0.92208775  0.91981846  0.84027252]\n"
     ]
    }
   ],
   "source": [
    "from sklearn.cross_validation import cross_val_score\n",
    "# 10-fold cross-validation with K=5 for KNN (the n_neighbors parameter)\n",
    "knn = KNeighborsClassifier(n_neighbors=5)\n",
    "scores = cross_val_score(knn, X, y, cv=4, scoring='accuracy')\n",
    "print (scores)"
   ]
  },
  {
   "cell_type": "code",
   "execution_count": 37,
   "metadata": {
    "collapsed": false
   },
   "outputs": [
    {
     "name": "stdout",
     "output_type": "stream",
     "text": [
      "0.896331342728\n"
     ]
    }
   ],
   "source": [
    "print (scores.mean())\n"
   ]
  },
  {
   "cell_type": "code",
   "execution_count": 40,
   "metadata": {
    "collapsed": false
   },
   "outputs": [
    {
     "name": "stdout",
     "output_type": "stream",
     "text": [
      "[0.84697617103441336, 0.89578163061266802, 0.8721310358333495, 0.89009981893788337, 0.88707266878230295, 0.89009953262840114, 0.88934224404791218, 0.8918017856549787, 0.89142342767421645, 0.89142414344792198, 0.89142357082895751, 0.89331550388751013, 0.89331536073276907, 0.89445115044876145, 0.89331493126854566, 0.89691212360323913, 0.89142371398369868, 0.89009996209262454, 0.89123446341594692, 0.89009967578314231, 0.89104521284819527, 0.89066714117691514, 0.89161310770619151, 0.89123489288017033, 0.89180207196446093, 0.89199160884169482, 0.8918026445834254, 0.8916135371704148, 0.89010024840210689, 0.89085696436363127]\n"
     ]
    }
   ],
   "source": [
    "k_range = range(1, 31)\n",
    "k_scores = []\n",
    "for k in k_range:\n",
    "    knn = KNeighborsClassifier(n_neighbors=k)\n",
    "    scores = cross_val_score(knn, X, y, cv=4, scoring='accuracy')\n",
    "    k_scores.append(scores.mean())\n",
    "print (k_scores)"
   ]
  }
 ],
 "metadata": {
  "kernelspec": {
   "display_name": "Python 3",
   "language": "python",
   "name": "python3"
  },
  "language_info": {
   "codemirror_mode": {
    "name": "ipython",
    "version": 3
   },
   "file_extension": ".py",
   "mimetype": "text/x-python",
   "name": "python",
   "nbconvert_exporter": "python",
   "pygments_lexer": "ipython3",
   "version": "3.5.1"
  }
 },
 "nbformat": 4,
 "nbformat_minor": 0
}
