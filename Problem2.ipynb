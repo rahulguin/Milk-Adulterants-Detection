{
 "cells": [
  {
   "cell_type": "code",
   "execution_count": 12,
   "metadata": {
    "collapsed": true
   },
   "outputs": [],
   "source": [
    "import pandas as pd\n",
    "data= pd.read_csv('C:\\\\Users\\\\Dell PC\\\\Desktop\\\\mir.csv')"
   ]
  },
  {
   "cell_type": "code",
   "execution_count": 13,
   "metadata": {
    "collapsed": false
   },
   "outputs": [
    {
     "name": "stdout",
     "output_type": "stream",
     "text": [
      "       1819      1806      1792      1779      1766      1753      1741  \\\n",
      "0  99.18389  99.63905  99.16046  98.84535  98.93038  98.58627  98.20972   \n",
      "1  99.33261  98.80840  98.69943  99.02390  98.71841  98.66637  98.43863   \n",
      "2  99.10547  98.82649  98.91290  99.03580  98.99537  98.91911  98.85892   \n",
      "3  99.10787  98.99817  98.83083  99.11613  98.95229  99.03153  99.09865   \n",
      "4  98.99371  98.80965  98.90786  99.12389  99.09737  99.38934  99.24475   \n",
      "\n",
      "       1728      1716      1704    ...          964       960       956  \\\n",
      "0  98.10948  97.76357  97.91219    ...     94.60139  94.80447  94.79208   \n",
      "1  98.56966  98.16318  97.63266    ...     94.45252  94.39323  95.01111   \n",
      "2  98.68549  98.28992  97.33273    ...     94.87752  93.97311  94.78423   \n",
      "3  98.77976  98.26906  97.81380    ...     94.74136  94.29523  94.76690   \n",
      "4  99.12132  98.72931  97.74020    ...     94.21420  94.05006  94.57084   \n",
      "\n",
      "        953       949       945       941       938       934       931  \n",
      "0  94.70405  95.47358  95.32974  95.68173  95.56106  95.22491  95.93672  \n",
      "1  94.72886  95.81667  95.33150  95.14656  95.67233  96.69450  95.54578  \n",
      "2  94.36344  95.05466  94.96565  95.18752  94.95274  96.13908  95.01680  \n",
      "3  94.73723  95.36240  95.35760  94.97964  95.77308  96.46364  95.45044  \n",
      "4  94.72698  94.89108  95.80746  95.27411  95.29057  96.28780  95.50010  \n",
      "\n",
      "[5 rows x 128 columns]\n"
     ]
    }
   ],
   "source": [
    "feature=['1819','1806','1792','1779','1766','1753','1741','1728','1716','1704','1692','1680','1669','1657','1646',\n",
    "         '1635','1624','1613','1602','1592','1581','1571','1561','1551','1541','1531','1522','1512','1503',\n",
    "         '1494','1484','1475','1466','1458','1449','1440','1432','1423','1415','1407','1399','1391',\n",
    "         '1383','1375','1367','1359','1352','1344','1337','1329','1322','1315','1308','1301','1294',\n",
    "         '1287','1280','1273','1267','1260','1254','1247','1241','1234','1228','1222','1216','1210',\n",
    "         '1204','1198','1192','1186','1180','1175','1169','1163','1158','1152','1147','1141','1136',\n",
    "         '1131','1125','1120','1115','1110','1105','1100','1095','1090','1085','1080','1075','1071',\n",
    "         '1066','1061','1057','1052','1047','1043','1038','1034','1030','1025','1021','1017','1012',\n",
    "         '1008','1004','1000','996','992','988','984','980','976','972','968','964','960',\n",
    "         '956','953','949','945','941','938','934','931']\n",
    "X=data[feature]\n",
    "print (X.head())"
   ]
  },
  {
   "cell_type": "code",
   "execution_count": 14,
   "metadata": {
    "collapsed": false
   },
   "outputs": [
    {
     "name": "stdout",
     "output_type": "stream",
     "text": [
      "0    Urea\n",
      "1    Urea\n",
      "2    Urea\n",
      "3    Urea\n",
      "4    Urea\n",
      "Name: Adulterant_Type, dtype: object\n"
     ]
    }
   ],
   "source": [
    "y=data['Adulterant_Type']\n",
    "print (y.head())"
   ]
  },
  {
   "cell_type": "code",
   "execution_count": 15,
   "metadata": {
    "collapsed": false
   },
   "outputs": [
    {
     "data": {
      "text/plain": [
       "RandomForestClassifier(bootstrap=True, class_weight=None, criterion='gini',\n",
       "            max_depth=None, max_features='auto', max_leaf_nodes=None,\n",
       "            min_samples_leaf=1, min_samples_split=2,\n",
       "            min_weight_fraction_leaf=0.0, n_estimators=10, n_jobs=1,\n",
       "            oob_score=False, random_state=None, verbose=0,\n",
       "            warm_start=False)"
      ]
     },
     "execution_count": 15,
     "metadata": {},
     "output_type": "execute_result"
    }
   ],
   "source": [
    "from sklearn.ensemble import RandomForestClassifier\n",
    "rfc=RandomForestClassifier()\n",
    "rfc.fit(X,y)\n"
   ]
  },
  {
   "cell_type": "code",
   "execution_count": 16,
   "metadata": {
    "collapsed": false
   },
   "outputs": [
    {
     "name": "stderr",
     "output_type": "stream",
     "text": [
      "C:\\Users\\Dell PC\\Anaconda3\\lib\\site-packages\\sklearn\\utils\\validation.py:386: DeprecationWarning: Passing 1d arrays as data is deprecated in 0.17 and willraise ValueError in 0.19. Reshape your data either using X.reshape(-1, 1) if your data has a single feature or X.reshape(1, -1) if it contains a single sample.\n",
      "  DeprecationWarning)\n"
     ]
    },
    {
     "data": {
      "text/plain": [
       "array(['Ammonium_Sulphate'], dtype=object)"
      ]
     },
     "execution_count": 16,
     "metadata": {},
     "output_type": "execute_result"
    }
   ],
   "source": [
    "rfc.predict([98.74889,98.96594,99.12506,98.64775,98.58496,98.67249,98.51029,98.24426,98.00015,\n",
    "                   96.95495,97.76312,96.59195,95.9248,96.30318,95.07507,95.51065,94.93949,94.61951,\n",
    "                   94.86115,94.11197,93.63389,92.90859,92.968,92.95649,92.56394,91.16632,92.30267,\n",
    "                   92.67293,92.02023,92.65493,92.3388,91.69561,92.03368,92.0248,92.88823,92.2422,91.86823,\n",
    "                   91.72361,91.48499,92.80576,92.91467,92.83759,93.0265,93.01413,94.09478,94.37393,\n",
    "                   93.63265,94.4731,93.73987,94.71449,94.55167,94.75816,94.42496,94.55708,94.71901,\n",
    "                   94.56573,94.60993,94.24986,94.25575,94.09278,93.95029,94.27004,94.26936,94.10585,\n",
    "                   94.35129,94.104,94.2598,94.13007,93.64635,93.28981,92.75847,92.31516,91.8706,91.29829,\n",
    "                   91.02489,90.34637,89.45309,89.114,88.44258,87.50054,87.5696,86.94193,85.93758,85.35002,\n",
    "                   84.90574,84.46508,83.72401,82.78843,81.89023,81.74355,81.49362,81.51457,81.15795,\n",
    "                   81.35287,81.0156,81.61779,81.48817,81.59548,81.86844,82.11874,82.75842,83.77203,84.02203,\n",
    "                   85.12511,85.7827,86.65579,87.53684,87.75845,89.38428,89.68962,90.40343,91.30403,91.1993,\n",
    "                   91.9882,92.24232,92.58959,92.57236,93.48225,93.11204,93.85802,93.78385,93.90425,\n",
    "                   94.85257,94.47706,94.02027,95.2999,95.33576,95.44841])"
   ]
  },
  {
   "cell_type": "code",
   "execution_count": 17,
   "metadata": {
    "collapsed": true
   },
   "outputs": [],
   "source": [
    "test= pd.read_csv('C:\\\\Users\\\\Dell PC\\\\Desktop\\\\test2.csv')"
   ]
  },
  {
   "cell_type": "code",
   "execution_count": 18,
   "metadata": {
    "collapsed": false
   },
   "outputs": [],
   "source": [
    "feature=['1819','1806','1792','1779','1766','1753','1741','1728','1716','1704','1692','1680','1669','1657','1646',\n",
    "         '1635','1624','1613','1602','1592','1581','1571','1561','1551','1541','1531','1522','1512','1503',\n",
    "         '1494','1484','1475','1466','1458','1449','1440','1432','1423','1415','1407','1399','1391',\n",
    "         '1383','1375','1367','1359','1352','1344','1337','1329','1322','1315','1308','1301','1294',\n",
    "         '1287','1280','1273','1267','1260','1254','1247','1241','1234','1228','1222','1216','1210',\n",
    "         '1204','1198','1192','1186','1180','1175','1169','1163','1158','1152','1147','1141','1136',\n",
    "         '1131','1125','1120','1115','1110','1105','1100','1095','1090','1085','1080','1075','1071',\n",
    "         '1066','1061','1057','1052','1047','1043','1038','1034','1030','1025','1021','1017','1012',\n",
    "         '1008','1004','1000','996','992','988','984','980','976','972','968','964','960',\n",
    "         '956','953','949','945','941','938','934','931']"
   ]
  },
  {
   "cell_type": "code",
   "execution_count": 19,
   "metadata": {
    "collapsed": false
   },
   "outputs": [
    {
     "name": "stdout",
     "output_type": "stream",
     "text": [
      "       1819      1806      1792      1779      1766      1753      1741  \\\n",
      "0  99.26985  99.25216  99.01493  98.73410  98.67073  98.67310  98.94852   \n",
      "1  98.86452  99.00246  98.90533  98.74968  98.81578  98.56122  98.43217   \n",
      "2  98.84467  99.17372  98.87897  98.49618  98.78309  98.39170  98.45432   \n",
      "3  98.67705  99.03291  98.84084  98.98774  98.55994  98.58904  98.52502   \n",
      "4  98.68327  98.94456  98.90227  98.71016  98.72349  98.56758  98.47134   \n",
      "\n",
      "       1728      1716      1704    ...          964       960       956  \\\n",
      "0  98.17936  97.83112  97.78976    ...     94.02180  94.24750  94.07235   \n",
      "1  98.21809  97.62328  97.90228    ...     93.62403  94.08735  94.78722   \n",
      "2  98.03403  97.87008  97.85279    ...     93.52233  94.17899  94.63538   \n",
      "3  98.40392  98.21682  97.27050    ...     94.35329  93.88428  94.74375   \n",
      "4  98.43100  98.13506  97.29359    ...     93.93317  94.34175  94.21288   \n",
      "\n",
      "        953       949       945       941       938       934       931  \n",
      "0  94.99236  95.42192  95.08902  95.24641  94.15255  96.28669  95.55573  \n",
      "1  95.05654  96.07674  96.13187  95.51681  95.27636  96.27344  96.34775  \n",
      "2  94.65190  95.46886  95.21321  94.85641  94.30682  95.57580  96.24534  \n",
      "3  95.01009  94.83390  95.15231  94.88576  94.86823  95.03166  95.31456  \n",
      "4  94.74605  94.77930  95.45948  94.97680  94.73200  95.45374  94.84412  \n",
      "\n",
      "[5 rows x 128 columns]\n"
     ]
    }
   ],
   "source": [
    "x_test=test[feature]\n",
    "print (x_test.head())"
   ]
  },
  {
   "cell_type": "code",
   "execution_count": 20,
   "metadata": {
    "collapsed": false
   },
   "outputs": [
    {
     "name": "stdout",
     "output_type": "stream",
     "text": [
      "0    Unadulterated\n",
      "1    Unadulterated\n",
      "2    Unadulterated\n",
      "3    Unadulterated\n",
      "4    Unadulterated\n",
      "Name: Adulterant_Type, dtype: object\n"
     ]
    }
   ],
   "source": [
    "y_test=test['Adulterant_Type']\n",
    "print (y_test.head())"
   ]
  },
  {
   "cell_type": "code",
   "execution_count": 21,
   "metadata": {
    "collapsed": false
   },
   "outputs": [
    {
     "name": "stdout",
     "output_type": "stream",
     "text": [
      "0.348645465253\n"
     ]
    }
   ],
   "source": [
    "from sklearn import metrics\n",
    "a=rfc.predict(x_test)\n",
    "print (metrics.accuracy_score(y_test,a))"
   ]
  },
  {
   "cell_type": "code",
   "execution_count": 27,
   "metadata": {
    "collapsed": false
   },
   "outputs": [
    {
     "name": "stdout",
     "output_type": "stream",
     "text": [
      "0.415783274441\n"
     ]
    }
   ],
   "source": [
    "from sklearn.linear_model import LogisticRegression\n",
    "l=LogisticRegression(n_jobs=10)\n",
    "l.fit(X,y)\n",
    "b=l.predict(x_test)\n",
    "print (metrics.accuracy_score(y_test,b))"
   ]
  },
  {
   "cell_type": "code",
   "execution_count": 23,
   "metadata": {
    "collapsed": false
   },
   "outputs": [
    {
     "name": "stdout",
     "output_type": "stream",
     "text": [
      "0.406360424028\n"
     ]
    }
   ],
   "source": [
    "from sklearn.naive_bayes import GaussianNB\n",
    "clf=GaussianNB()\n",
    "clf.fit(X,y)\n",
    "c=clf.predict(x_test)\n",
    "print (metrics.accuracy_score(y_test,c))"
   ]
  },
  {
   "cell_type": "code",
   "execution_count": 26,
   "metadata": {
    "collapsed": false
   },
   "outputs": [
    {
     "name": "stdout",
     "output_type": "stream",
     "text": [
      "0.401648998822\n"
     ]
    }
   ],
   "source": [
    "from sklearn.neighbors import KNeighborsClassifier\n",
    "knn=KNeighborsClassifier(n_neighbors=50)\n",
    "knn.fit(X, y)\n",
    "d=knn.predict(x_test)\n",
    "print (metrics.accuracy_score(y_test,d))"
   ]
  }
 ],
 "metadata": {
  "kernelspec": {
   "display_name": "Python 3",
   "language": "python",
   "name": "python3"
  },
  "language_info": {
   "codemirror_mode": {
    "name": "ipython",
    "version": 3
   },
   "file_extension": ".py",
   "mimetype": "text/x-python",
   "name": "python",
   "nbconvert_exporter": "python",
   "pygments_lexer": "ipython3",
   "version": "3.5.1"
  }
 },
 "nbformat": 4,
 "nbformat_minor": 0
}
